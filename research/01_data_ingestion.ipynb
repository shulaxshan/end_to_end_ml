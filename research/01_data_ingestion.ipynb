{
 "cells": [
  {
   "cell_type": "code",
   "execution_count": 1,
   "metadata": {},
   "outputs": [],
   "source": [
    "import os\n"
   ]
  },
  {
   "cell_type": "code",
   "execution_count": 2,
   "metadata": {},
   "outputs": [
    {
     "data": {
      "text/plain": [
       "'d:\\\\Personal\\\\My_ml_learning\\\\end_to_end_ml\\\\research'"
      ]
     },
     "execution_count": 2,
     "metadata": {},
     "output_type": "execute_result"
    }
   ],
   "source": [
    "%pwd"
   ]
  },
  {
   "cell_type": "code",
   "execution_count": 3,
   "metadata": {},
   "outputs": [],
   "source": [
    "os.chdir(\"../\")"
   ]
  },
  {
   "cell_type": "code",
   "execution_count": 4,
   "metadata": {},
   "outputs": [
    {
     "data": {
      "text/plain": [
       "'d:\\\\Personal\\\\My_ml_learning\\\\end_to_end_ml'"
      ]
     },
     "execution_count": 4,
     "metadata": {},
     "output_type": "execute_result"
    }
   ],
   "source": [
    "%pwd"
   ]
  },
  {
   "cell_type": "code",
   "execution_count": 10,
   "metadata": {},
   "outputs": [],
   "source": [
    "import pandas as pd \n",
    "from sklearn.model_selection import train_test_split\n",
    "from dataclasses import dataclass"
   ]
  },
  {
   "cell_type": "code",
   "execution_count": 11,
   "metadata": {},
   "outputs": [],
   "source": [
    "@dataclass\n",
    "class DataIngestionConfig:\n",
    "    train_data_path: str=os.path.join('artifacts',\"train.csv\")\n",
    "    test_data_path: str=os.path.join('artifacts',\"test.csv\")\n",
    "    raw_data_path: str=os.path.join('artifacts',\"data.csv\")\n",
    "\n",
    "class DataIngestion:\n",
    "    def __init__(self):\n",
    "        self.ingestion_config=DataIngestionConfig()\n",
    "\n",
    "    def initiate_data_ingestion(self):\n",
    "        print(\"Entered the data ingestion method or component\")\n",
    "       \n",
    "        df=pd.read_csv('notebook\\data\\stud.csv')\n",
    "        print('Read the dataset as dataframe')\n",
    "\n",
    "        os.makedirs(os.path.dirname(self.ingestion_config.train_data_path),exist_ok=True)\n",
    "\n",
    "        df.to_csv(self.ingestion_config.raw_data_path,index=False,header=True)\n",
    "\n",
    "        print(\"Train test split initiated\")\n",
    "        train_set,test_set=train_test_split(df,test_size=0.2,random_state=42)\n",
    "\n",
    "        train_set.to_csv(self.ingestion_config.train_data_path,index=False,header=True)\n",
    "\n",
    "        test_set.to_csv(self.ingestion_config.test_data_path,index=False,header=True)\n",
    "\n",
    "        print(\"Ingestion of the data is completed\")\n",
    "        print(self.ingestion_config.train_data_path)\n",
    "        return(\n",
    "            self.ingestion_config.train_data_path,\n",
    "            self.ingestion_config.test_data_path)\n",
    "\n",
    "        "
   ]
  },
  {
   "cell_type": "code",
   "execution_count": 12,
   "metadata": {},
   "outputs": [
    {
     "name": "stdout",
     "output_type": "stream",
     "text": [
      "Entered the data ingestion method or component\n",
      "Read the dataset as dataframe\n",
      "Train test split initiated\n",
      "Ingestion of the data is completed\n",
      "artifacts\\train.csv\n"
     ]
    }
   ],
   "source": [
    "try:\n",
    "    obj=DataIngestion()\n",
    "    obj.initiate_data_ingestion()\n",
    "except Exception as e:\n",
    "    raise e"
   ]
  }
 ],
 "metadata": {
  "kernelspec": {
   "display_name": "Python 3",
   "language": "python",
   "name": "python3"
  },
  "language_info": {
   "codemirror_mode": {
    "name": "ipython",
    "version": 3
   },
   "file_extension": ".py",
   "mimetype": "text/x-python",
   "name": "python",
   "nbconvert_exporter": "python",
   "pygments_lexer": "ipython3",
   "version": "3.8.0"
  }
 },
 "nbformat": 4,
 "nbformat_minor": 2
}
